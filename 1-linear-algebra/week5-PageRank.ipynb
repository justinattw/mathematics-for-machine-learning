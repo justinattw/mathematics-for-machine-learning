{
 "cells": [
  {
   "cell_type": "markdown",
   "metadata": {
    "collapsed": true
   },
   "source": [
    "# PageRank\n",
    "In this notebook, you'll build on your knowledge of eigenvectors and eigenvalues by exploring the PageRank algorithm.\n",
    "The notebook is in two parts, the first is a worksheet to get you up to speed with how the algorithm works - here we will look at a micro-internet with fewer than 10 websites and see what it does and what can go wrong.\n",
    "The second is an assessment which will test your application of eigentheory to this problem by writing code and calculating the page rank of a large network representing a sub-section of the internet."
   ]
  },
  {
   "cell_type": "markdown",
   "metadata": {},
   "source": [
    "## Part 1 - Worksheet\n",
    "### Introduction\n",
    "\n",
    "PageRank (developed by Larry Page and Sergey Brin) revolutionized web search by generating a\n",
    "ranked list of web pages based on the underlying connectivity of the web. The PageRank algorithm is\n",
    "based on an ideal random web surfer who, when reaching a page, goes to the next page by clicking on a\n",
    "link. The surfer has equal probability of clicking any link on the page and, when reaching a page with no\n",
    "links, has equal probability of moving to any other page by typing in its URL. In addition, the surfer may\n",
    "occasionally choose to type in a random URL instead of following the links on a page. The PageRank is\n",
    "the ranked order of the pages from the most to the least probable page the surfer will be viewing.\n"
   ]
  },
  {
   "cell_type": "code",
   "execution_count": 1,
   "metadata": {},
   "outputs": [
    {
     "name": "stdout",
     "output_type": "stream",
     "text": [
      "Populating the interactive namespace from numpy and matplotlib\n"
     ]
    }
   ],
   "source": [
    "# Before we begin, let's load the libraries.\n",
    "%pylab notebook\n",
    "import numpy as np\n",
    "import numpy.linalg as la\n",
    "from readonly.PageRankFunctions import *\n",
    "np.set_printoptions(suppress=True)"
   ]
  },
  {
   "cell_type": "markdown",
   "metadata": {},
   "source": [
    "### PageRank as a linear algebra problem\n",
    "Let's imagine a micro-internet, with just 6 websites (**A**vocado, **B**ullseye, **C**atBabel, **D**romeda, **e**Tings, and **F**aceSpace).\n",
    "Each website links to some of the others, and this forms a network as shown,\n",
    "\n",
    "![A Micro-Internet](readonly/internet.png \"A Micro-Internet\")\n",
    "\n",
    "The design principle of PageRank is that important websites will be linked to by important websites.\n",
    "This somewhat recursive principle will form the basis of our thinking.\n",
    "\n",
    "Imagine we have 100 *Procrastinating Pat*s on our micro-internet, each viewing a single website at a time.\n",
    "Each minute the Pats follow a link on their website to another site on the micro-internet.\n",
    "After a while, the websites that are most linked to will have more Pats visiting them, and in the long run, each minute for every Pat that leaves a website, another will enter keeping the total numbers of Pats on each website constant.\n",
    "The PageRank is simply the ranking of websites by how many Pats they have on them at the end of this process.\n",
    "\n",
    "We represent the number of Pats on each website with the vector,\n",
    "$$\\mathbf{r} = \\begin{bmatrix} r_A \\\\ r_B \\\\ r_C \\\\ r_D \\\\ r_E \\\\ r_F \\end{bmatrix}$$\n",
    "And say that the number of Pats on each website in minute $i+1$ is related to those at minute $i$ by the matrix transformation\n",
    "\n",
    "$$ \\mathbf{r}^{(i+1)} = L \\,\\mathbf{r}^{(i)}$$\n",
    "with the matrix $L$ taking the form,\n",
    "$$ L = \\begin{bmatrix}\n",
    "L_{A→A} & L_{B→A} & L_{C→A} & L_{D→A} & L_{E→A} & L_{F→A} \\\\\n",
    "L_{A→B} & L_{B→B} & L_{C→B} & L_{D→B} & L_{E→B} & L_{F→B} \\\\\n",
    "L_{A→C} & L_{B→C} & L_{C→C} & L_{D→C} & L_{E→C} & L_{F→C} \\\\\n",
    "L_{A→D} & L_{B→D} & L_{C→D} & L_{D→D} & L_{E→D} & L_{F→D} \\\\\n",
    "L_{A→E} & L_{B→E} & L_{C→E} & L_{D→E} & L_{E→E} & L_{F→E} \\\\\n",
    "L_{A→F} & L_{B→F} & L_{C→F} & L_{D→F} & L_{E→F} & L_{F→F} \\\\\n",
    "\\end{bmatrix}\n",
    "$$\n",
    "where the columns represent the probability of leaving a website for any other website, and sum to one.\n",
    "The rows determine how likely you are to enter a website from any other, though these need not add to one.\n",
    "The long time behaviour of this system is when $ \\mathbf{r}^{(i+1)} = \\mathbf{r}^{(i)}$, so we'll drop the superscripts here, and that allows us to write,\n",
    "$$ L \\,\\mathbf{r} = \\mathbf{r}$$\n",
    "\n",
    "which is an eigenvalue equation for the matrix $L$, with eigenvalue 1 (this is guaranteed by the probabalistic structure of the matrix $L$).\n",
    "\n",
    "Complete the matrix $L$ below, we've left out the column for which websites the *FaceSpace* website (F) links to.\n",
    "Remember, this is the probability to click on another website from this one, so each column should add to one (by scaling by the number of links)."
   ]
  },
  {
   "cell_type": "code",
   "execution_count": 17,
   "metadata": {},
   "outputs": [
    {
     "name": "stdout",
     "output_type": "stream",
     "text": [
      "[[-0.28867513  0.21132487]\n",
      " [ 0.28867513  0.78867513]]\n",
      "[[-0.28867513  0.21132487]\n",
      " [ 0.28867513  0.78867513]]\n"
     ]
    }
   ],
   "source": [
    "A = np.array([[3/2,  -1],\n",
    "              [-1/2, 1/2]])\n",
    "\n",
    "C = np.array([[-1 - np.sqrt(3), -1 + np.sqrt(3)],\n",
    "              [              1,               1]])\n",
    "\n",
    "Cic = np.linalg.inv(C)\n",
    "\n",
    "Cih = (1 / (-2 * np.sqrt(3))) * np.array([[ 1,  1 - np.sqrt(3)],\n",
    "                                          [-1, -1 - np.sqrt(3)]])\n",
    "\n",
    "print(Cic)\n",
    "print(Cih)"
   ]
  },
  {
   "cell_type": "code",
   "execution_count": 19,
   "metadata": {},
   "outputs": [
    {
     "name": "stdout",
     "output_type": "stream",
     "text": [
      "-0.144337567297\n"
     ]
    }
   ],
   "source": [
    "n =  (1 / (-2 * np.sqrt(3))) * (1/2)\n",
    "print(n)"
   ]
  },
  {
   "cell_type": "code",
   "execution_count": 20,
   "metadata": {},
   "outputs": [
    {
     "name": "stdout",
     "output_type": "stream",
     "text": [
      "-0.144337567297\n"
     ]
    }
   ],
   "source": [
    "print(1 / (-4 * np.sqrt(3)))"
   ]
  },
  {
   "cell_type": "code",
   "execution_count": 8,
   "metadata": {},
   "outputs": [
    {
     "name": "stdout",
     "output_type": "stream",
     "text": [
      "[[-5.09807621  0.09807621]\n",
      " [ 1.8660254   0.1339746 ]]\n"
     ]
    }
   ],
   "source": [
    "i = A @ C\n",
    "print(i)"
   ]
  },
  {
   "cell_type": "code",
   "execution_count": 16,
   "metadata": {},
   "outputs": [
    {
     "name": "stdout",
     "output_type": "stream",
     "text": [
      "-5.09807621135\n",
      "0.0980762113533\n",
      "1.86602540378\n",
      "0.133974596216\n"
     ]
    }
   ],
   "source": [
    "a = 1/2 * (-5 - (3 * np.sqrt(3)))\n",
    "b = 1/2 * (-5 + (3 * np.sqrt(3)))\n",
    "c = 1/2 * (2 + np.sqrt(3))\n",
    "d = 1/2 * (2 - np.sqrt(3))\n",
    "\n",
    "print(a)\n",
    "print(b)\n",
    "print(c)\n",
    "print(d)"
   ]
  },
  {
   "cell_type": "code",
   "execution_count": 10,
   "metadata": {},
   "outputs": [
    {
     "name": "stdout",
     "output_type": "stream",
     "text": [
      "[[ 1.8660254  0.       ]\n",
      " [ 0.         0.1339746]]\n"
     ]
    }
   ],
   "source": [
    "D = Cic @ i\n",
    "print(D)"
   ]
  },
  {
   "cell_type": "code",
   "execution_count": 25,
   "metadata": {},
   "outputs": [
    {
     "name": "stdout",
     "output_type": "stream",
     "text": [
      "[[ 1.8660254  0.       ]\n",
      " [ 0.         0.1339746]]\n"
     ]
    }
   ],
   "source": [
    "D = Cic @ A @ C\n",
    "print(D)"
   ]
  },
  {
   "cell_type": "code",
   "execution_count": 26,
   "metadata": {},
   "outputs": [
    {
     "data": {
      "text/plain": [
       "1.8660254037844386"
      ]
     },
     "execution_count": 26,
     "metadata": {},
     "output_type": "execute_result"
    }
   ],
   "source": [
    "1 + (np.sqrt(3) / 2)"
   ]
  },
  {
   "cell_type": "code",
   "execution_count": 27,
   "metadata": {},
   "outputs": [
    {
     "data": {
      "text/plain": [
       "0.1339745962155614"
      ]
     },
     "execution_count": 27,
     "metadata": {},
     "output_type": "execute_result"
    }
   ],
   "source": [
    "1 - (np.sqrt(3) / 2)"
   ]
  },
  {
   "cell_type": "code",
   "execution_count": 6,
   "metadata": {},
   "outputs": [
    {
     "name": "stdout",
     "output_type": "stream",
     "text": [
      "[[ 1.8660254  0.       ]\n",
      " [ 0.         0.1339746]]\n"
     ]
    }
   ],
   "source": [
    "D = Cic @ A @ C\n",
    "print(D)"
   ]
  },
  {
   "cell_type": "code",
   "execution_count": 28,
   "metadata": {},
   "outputs": [
    {
     "data": {
      "text/plain": [
       "array([[ 2.75, -2.  ],\n",
       "       [-1.  ,  0.75]])"
      ]
     },
     "execution_count": 28,
     "metadata": {},
     "output_type": "execute_result"
    }
   ],
   "source": [
    "A @ A"
   ]
  },
  {
   "cell_type": "code",
   "execution_count": 29,
   "metadata": {},
   "outputs": [
    {
     "data": {
      "text/plain": [
       "2.75"
      ]
     },
     "execution_count": 29,
     "metadata": {},
     "output_type": "execute_result"
    }
   ],
   "source": [
    "11/4"
   ]
  },
  {
   "cell_type": "code",
   "execution_count": null,
   "metadata": {
    "collapsed": true
   },
   "outputs": [],
   "source": [
    "a = (1 / np.sqrt(3)) * (-7 -)\n",
    "b = 1/2 * (-5 + (3 * np.sqrt(3)))\n",
    "c = 1/2 * (2 + np.sqrt(3))\n",
    "d = 1/2 * (2 - np.sqrt(3))\n",
    "\n",
    "print(a)\n",
    "print(b)\n",
    "print(c)\n",
    "print(d)"
   ]
  },
  {
   "cell_type": "code",
   "execution_count": null,
   "metadata": {
    "collapsed": true
   },
   "outputs": [],
   "source": []
  },
  {
   "cell_type": "code",
   "execution_count": 3,
   "metadata": {
    "collapsed": true
   },
   "outputs": [],
   "source": [
    "# Replace the ??? here with the probability of clicking a link to each website when leaving Website F (FaceSpace).\n",
    "L = np.array([[0,   1/2, 1/3, 0, 0,   0 ],\n",
    "              [1/3, 0,   0,   0, 1/2, 0 ],\n",
    "              [1/3, 1/2, 0,   1, 0,   1/2 ],\n",
    "              [1/3, 0,   1/3, 0, 1/2, 1/2 ],\n",
    "              [0,   0,   0,   0, 0,   0 ],\n",
    "              [0,   0,   1/3, 0, 0,   0 ]])"
   ]
  },
  {
   "cell_type": "markdown",
   "metadata": {},
   "source": [
    "In principle, we could use a linear algebra library, as below, to calculate the eigenvalues and vectors.\n",
    "And this would work for a small system. But this gets unmanagable for large systems.\n",
    "And since we only care about the principal eigenvector (the one with the largest eigenvalue, which will be 1 in this case), we can use the *power iteration method* which will scale better, and is faster for large systems.\n",
    "\n",
    "Use the code below to peek at the PageRank for this micro-internet."
   ]
  },
  {
   "cell_type": "code",
   "execution_count": 4,
   "metadata": {},
   "outputs": [
    {
     "data": {
      "text/plain": [
       "array([ 16.        ,   5.33333333,  40.        ,  25.33333333,\n",
       "         0.        ,  13.33333333])"
      ]
     },
     "execution_count": 4,
     "metadata": {},
     "output_type": "execute_result"
    }
   ],
   "source": [
    "eVals, eVecs = la.eig(L) # Gets the eigenvalues and vectors\n",
    "order = np.absolute(eVals).argsort()[::-1] # Orders them by their eigenvalues\n",
    "eVals = eVals[order]\n",
    "eVecs = eVecs[:,order]\n",
    "\n",
    "r = eVecs[:, 0] # Sets r to be the principal eigenvector\n",
    "100 * np.real(r / np.sum(r)) # Make this eigenvector sum to one, then multiply by 100 Procrastinating Pats"
   ]
  },
  {
   "cell_type": "markdown",
   "metadata": {},
   "source": [
    "We can see from this list, the number of Procrastinating Pats that we expect to find on each website after long times.\n",
    "Putting them in order of *popularity* (based on this metric), the PageRank of this micro-internet is:\n",
    "\n",
    "**C**atBabel, **D**romeda, **A**vocado, **F**aceSpace, **B**ullseye, **e**Tings\n",
    "\n",
    "Referring back to the micro-internet diagram, is this what you would have expected?\n",
    "Convince yourself that based on which pages seem important given which others link to them, that this is a sensible ranking.\n",
    "\n",
    "Let's now try to get the same result using the Power-Iteration method that was covered in the video.\n",
    "This method will be much better at dealing with large systems.\n",
    "\n",
    "First let's set up our initial vector, $\\mathbf{r}^{(0)}$, so that we have our 100 Procrastinating Pats equally distributed on each of our 6 websites."
   ]
  },
  {
   "cell_type": "code",
   "execution_count": 5,
   "metadata": {},
   "outputs": [
    {
     "data": {
      "text/plain": [
       "array([ 16.66666667,  16.66666667,  16.66666667,  16.66666667,\n",
       "        16.66666667,  16.66666667])"
      ]
     },
     "execution_count": 5,
     "metadata": {},
     "output_type": "execute_result"
    }
   ],
   "source": [
    "r = 100 * np.ones(6) / 6 # Sets up this vector (6 entries of 1/6 × 100 each)\n",
    "r # Shows it's value"
   ]
  },
  {
   "cell_type": "markdown",
   "metadata": {},
   "source": [
    "Next, let's update the vector to the next minute, with the matrix $L$.\n",
    "Run the following cell multiple times, until the answer stabilises."
   ]
  },
  {
   "cell_type": "code",
   "execution_count": 82,
   "metadata": {},
   "outputs": [
    {
     "data": {
      "text/plain": [
       "array([ 16.        ,   5.33333333,  40.        ,  25.33333333,\n",
       "         0.        ,  13.33333333])"
      ]
     },
     "execution_count": 82,
     "metadata": {},
     "output_type": "execute_result"
    }
   ],
   "source": [
    "r = L @ r # Apply matrix L to r\n",
    "r # Show it's value\n",
    "# Re-run this cell multiple times to converge to the correct answer."
   ]
  },
  {
   "cell_type": "markdown",
   "metadata": {},
   "source": [
    "We can automate applying this matrix multiple times as follows,"
   ]
  },
  {
   "cell_type": "code",
   "execution_count": 48,
   "metadata": {},
   "outputs": [
    {
     "data": {
      "text/plain": [
       "array([ 16.        ,   5.33333333,  40.        ,  25.33333333,\n",
       "         0.        ,  13.33333333])"
      ]
     },
     "execution_count": 48,
     "metadata": {},
     "output_type": "execute_result"
    }
   ],
   "source": [
    "r = 100 * np.ones(6) / 6 # Sets up this vector (6 entries of 1/6 × 100 each)\n",
    "for i in np.arange(100) : # Repeat 100 times\n",
    "    r = L @ r\n",
    "r"
   ]
  },
  {
   "cell_type": "markdown",
   "metadata": {},
   "source": [
    "Or even better, we can keep running until we get to the required tolerance."
   ]
  },
  {
   "cell_type": "code",
   "execution_count": 49,
   "metadata": {},
   "outputs": [
    {
     "name": "stdout",
     "output_type": "stream",
     "text": [
      "18 iterations to convergence.\n"
     ]
    },
    {
     "data": {
      "text/plain": [
       "array([ 16.00149917,   5.33252025,  39.99916911,  25.3324738 ,\n",
       "         0.        ,  13.33433767])"
      ]
     },
     "execution_count": 49,
     "metadata": {},
     "output_type": "execute_result"
    }
   ],
   "source": [
    "r = 100 * np.ones(6) / 6 # Sets up this vector (6 entries of 1/6 × 100 each)\n",
    "lastR = r\n",
    "r = L @ r\n",
    "i = 0\n",
    "while la.norm(lastR - r) > 0.01 :\n",
    "    lastR = r\n",
    "    r = L @ r\n",
    "    i += 1\n",
    "print(str(i) + \" iterations to convergence.\")\n",
    "r"
   ]
  },
  {
   "cell_type": "markdown",
   "metadata": {},
   "source": [
    "See how the PageRank order is established fairly quickly, and the vector converges on the value we calculated earlier after a few tens of repeats.\n",
    "\n",
    "Congratulations! You've just calculated your first PageRank!"
   ]
  },
  {
   "cell_type": "markdown",
   "metadata": {},
   "source": [
    "### Damping Parameter\n",
    "The system we just studied converged fairly quickly to the correct answer.\n",
    "Let's consider an extension to our micro-internet where things start to go wrong.\n",
    "\n",
    "Say a new website is added to the micro-internet: *Geoff's* Website.\n",
    "This website is linked to by *FaceSpace* and only links to itself.\n",
    "![An Expanded Micro-Internet](readonly/internet2.png \"An Expanded Micro-Internet\")\n",
    "\n",
    "Intuitively, only *FaceSpace*, which is in the bottom half of the page rank, links to this website amongst the two others it links to,\n",
    "so we might expect *Geoff's* site to have a correspondingly low PageRank score.\n",
    "\n",
    "Build the new $L$ matrix for the expanded micro-internet, and use Power-Iteration on the Procrastinating Pat vector.\n",
    "See what happens…"
   ]
  },
  {
   "cell_type": "code",
   "execution_count": 83,
   "metadata": {
    "collapsed": true
   },
   "outputs": [],
   "source": [
    " # We'll call this one L2, to distinguish it from the previous L.\n",
    "L2 = np.array([[0,   1/2, 1/3, 0, 0,   0,   0 ],\n",
    "               [1/3, 0,   0,   0, 1/2, 0,   0 ],\n",
    "               [1/3, 1/2, 0,   1, 0,   1/3, 0 ],\n",
    "               [1/3, 0,   1/3, 0, 1/2, 1/3, 0 ],\n",
    "               [0,   0,   0,   0, 0,   0,   0 ],\n",
    "               [0,   0,   1/3, 0, 0,   0,   0 ],\n",
    "               [0,   0,   0,   0, 0,   1/3, 1 ]])"
   ]
  },
  {
   "cell_type": "code",
   "execution_count": 84,
   "metadata": {},
   "outputs": [
    {
     "name": "stdout",
     "output_type": "stream",
     "text": [
      "131 iterations to convergence.\n"
     ]
    },
    {
     "data": {
      "text/plain": [
       "array([  0.03046998,   0.01064323,   0.07126612,   0.04423198,\n",
       "         0.        ,   0.02489342,  99.81849527])"
      ]
     },
     "execution_count": 84,
     "metadata": {},
     "output_type": "execute_result"
    }
   ],
   "source": [
    "r = 100 * np.ones(7) / 7 # Sets up this vector (6 entries of 1/6 × 100 each)\n",
    "lastR = r\n",
    "r = L2 @ r\n",
    "i = 0\n",
    "while la.norm(lastR - r) > 0.01 :\n",
    "    lastR = r\n",
    "    r = L2 @ r\n",
    "    i += 1\n",
    "print(str(i) + \" iterations to convergence.\")\n",
    "r"
   ]
  },
  {
   "cell_type": "markdown",
   "metadata": {},
   "source": [
    "That's no good! *Geoff* seems to be taking all the traffic on the micro-internet, and somehow coming at the top of the PageRank.\n",
    "This behaviour can be understood, because once a Pat get's to *Geoff's* Website, they can't leave, as all links head back to Geoff.\n",
    "\n",
    "To combat this, we can add a small probability that the Procrastinating Pats don't follow any link on a webpage, but instead visit a website on the micro-internet at random.\n",
    "We'll say the probability of them following a link is $d$ and the probability of choosing a random website is therefore $1-d$.\n",
    "We can use a new matrix to work out where the Pat's visit each minute.\n",
    "$$ M = d \\, L + \\frac{1-d}{n} \\, J $$\n",
    "where $J$ is an $n\\times n$ matrix where every element is one.\n",
    "\n",
    "If $d$ is one, we have the case we had previously, whereas if $d$ is zero, we will always visit a random webpage and therefore all webpages will be equally likely and equally ranked.\n",
    "For this extension to work best, $1-d$ should be somewhat small - though we won't go into a discussion about exactly how small.\n",
    "\n",
    "Let's retry this PageRank with this extension."
   ]
  },
  {
   "cell_type": "code",
   "execution_count": 85,
   "metadata": {
    "collapsed": true
   },
   "outputs": [],
   "source": [
    "d = 0.5 # Feel free to play with this parameter after running the code once.\n",
    "M = d * L2 + (1-d)/7 * np.ones([7, 7]) # np.ones() is the J matrix, with ones for each entry."
   ]
  },
  {
   "cell_type": "code",
   "execution_count": 86,
   "metadata": {},
   "outputs": [
    {
     "name": "stdout",
     "output_type": "stream",
     "text": [
      "8 iterations to convergence.\n"
     ]
    },
    {
     "data": {
      "text/plain": [
       "array([ 13.68217054,  11.20902965,  22.41964343,  16.7593433 ,\n",
       "         7.14285714,  10.87976354,  17.90719239])"
      ]
     },
     "execution_count": 86,
     "metadata": {},
     "output_type": "execute_result"
    }
   ],
   "source": [
    "r = 100 * np.ones(7) / 7 # Sets up this vector (6 entries of 1/6 × 100 each)\n",
    "lastR = r\n",
    "r = M @ r\n",
    "i = 0\n",
    "while la.norm(lastR - r) > 0.01 :\n",
    "    lastR = r\n",
    "    r = M @ r\n",
    "    i += 1\n",
    "print(str(i) + \" iterations to convergence.\")\n",
    "r"
   ]
  },
  {
   "cell_type": "markdown",
   "metadata": {},
   "source": [
    "This is certainly better, the PageRank gives sensible numbers for the Procrastinating Pats that end up on each webpage.\n",
    "This method still predicts Geoff has a high ranking webpage however.\n",
    "This could be seen as a consequence of using a small network. We could also get around the problem by not counting self-links when producing the L matrix (an if a website has no outgoing links, make it link to all websites equally).\n",
    "We won't look further down this route, as this is in the realm of improvements to PageRank, rather than eigenproblems.\n",
    "\n",
    "You are now in a good position, having gained an understanding of PageRank, to produce your own code to calculate the PageRank of a website with thousands of entries.\n",
    "\n",
    "Good Luck!"
   ]
  },
  {
   "cell_type": "markdown",
   "metadata": {},
   "source": [
    "## Part 2 - Assessment\n",
    "In this assessment, you will be asked to produce a function that can calculate the PageRank for an arbitrarily large probability matrix.\n",
    "This, the final assignment of the course, will give less guidance than previous assessments.\n",
    "You will be expected to utilise code from earlier in the worksheet and re-purpose it to your needs.\n",
    "\n",
    "### How to submit\n",
    "Edit the code in the cell below to complete the assignment.\n",
    "Once you are finished and happy with it, press the *Submit Assignment* button at the top of this notebook.\n",
    "\n",
    "Please don't change any of the function names, as these will be checked by the grading script.\n",
    "\n",
    "If you have further questions about submissions or programming assignments, here is a [list](https://www.coursera.org/learn/linear-algebra-machine-learning/discussions/weeks/1/threads/jB4klkn5EeibtBIQyzFmQg) of Q&A. You can also raise an issue on the discussion forum. Good luck!"
   ]
  },
  {
   "cell_type": "code",
   "execution_count": 13,
   "metadata": {
    "collapsed": true
   },
   "outputs": [],
   "source": [
    "# PACKAGE\n",
    "# Here are the imports again, just in case you need them.\n",
    "# There is no need to edit or submit this cell.\n",
    "import numpy as np\n",
    "import numpy.linalg as la\n",
    "from readonly.PageRankFunctions import *\n",
    "np.set_printoptions(suppress=True)"
   ]
  },
  {
   "cell_type": "code",
   "execution_count": 20,
   "metadata": {
    "collapsed": true
   },
   "outputs": [],
   "source": [
    "# GRADED FUNCTION\n",
    "# Complete this function to provide the PageRank for an arbitrarily sized internet.\n",
    "# I.e. the principal eigenvector of the damped system, using the power iteration method.\n",
    "# (Normalisation doesn't matter here)\n",
    "# The functions inputs are the linkMatrix, and d the damping parameter - as defined in this worksheet.\n",
    "# (The damping parameter, d, will be set by the function - no need to set this yourself.)\n",
    "def pageRank(linkMatrix, d) :\n",
    "    n = linkMatrix.shape[0]\n",
    "    M = d * linkMatrix + (1-d)/n * np.ones([n, n]) # np.ones() is the J matrix, with ones for each entry.\n",
    "    \n",
    "    r = 100 * np.ones(n) / n # Sets up this vector (6 entries of 1/6 × 100 each)\n",
    "    lastR = r\n",
    "    r = M @ r\n",
    "    i = 0\n",
    "    while la.norm(lastR - r) > 0.01 :\n",
    "        lastR = r\n",
    "        r = M @ r\n",
    "        i += 1\n",
    "        \n",
    "    return r\n"
   ]
  },
  {
   "cell_type": "markdown",
   "metadata": {},
   "source": [
    "## Test your code before submission\n",
    "To test the code you've written above, run the cell (select the cell above, then press the play button [ ▶| ] or press shift-enter).\n",
    "You can then use the code below to test out your function.\n",
    "You don't need to submit this cell; you can edit and run it as much as you like."
   ]
  },
  {
   "cell_type": "code",
   "execution_count": 15,
   "metadata": {},
   "outputs": [
    {
     "data": {
      "text/plain": [
       "array([[ 0.2,  0.2,  1. ,  0. ,  0.2],\n",
       "       [ 0.2,  0.2,  0. ,  0. ,  0.2],\n",
       "       [ 0.2,  0.2,  0. ,  0. ,  0.2],\n",
       "       [ 0.2,  0.2,  0. ,  1. ,  0.2],\n",
       "       [ 0.2,  0.2,  0. ,  0. ,  0.2]])"
      ]
     },
     "execution_count": 15,
     "metadata": {},
     "output_type": "execute_result"
    }
   ],
   "source": [
    "# Use the following function to generate internets of different sizes.\n",
    "generate_internet(5)"
   ]
  },
  {
   "cell_type": "code",
   "execution_count": 16,
   "metadata": {
    "collapsed": true
   },
   "outputs": [],
   "source": [
    "# Test your PageRank method against the built in \"eig\" method.\n",
    "# You should see yours is a lot faster for large internets\n",
    "L = generate_internet(10)"
   ]
  },
  {
   "cell_type": "code",
   "execution_count": 17,
   "metadata": {},
   "outputs": [
    {
     "data": {
      "text/plain": [
       "array([   0.00869522,  142.7248338 ,    0.00094536,    0.01487287,\n",
       "          0.03635979,    0.0097027 ,    0.02987993,    0.02203732,\n",
       "          0.0088705 ,    0.00094536])"
      ]
     },
     "execution_count": 17,
     "metadata": {},
     "output_type": "execute_result"
    }
   ],
   "source": [
    "pageRank(L, 1)"
   ]
  },
  {
   "cell_type": "code",
   "execution_count": 18,
   "metadata": {},
   "outputs": [
    {
     "data": {
      "text/plain": [
       "array([  0.0000001 ,  99.99999846,   0.00000002,   0.00000018,\n",
       "         0.00000039,   0.00000012,   0.00000034,   0.00000025,\n",
       "         0.00000011,   0.00000002])"
      ]
     },
     "execution_count": 18,
     "metadata": {},
     "output_type": "execute_result"
    }
   ],
   "source": [
    "# Do note, this is calculating the eigenvalues of the link matrix, L,\n",
    "# without any damping. It may give different results that your pageRank function.\n",
    "# If you wish, you could modify this cell to include damping.\n",
    "# (There is no credit for this though)\n",
    "eVals, eVecs = la.eig(L) # Gets the eigenvalues and vectors\n",
    "order = np.absolute(eVals).argsort()[::-1] # Orders them by their eigenvalues\n",
    "eVals = eVals[order]\n",
    "eVecs = eVecs[:,order]\n",
    "\n",
    "r = eVecs[:, 0]\n",
    "100 * np.real(r / np.sum(r))"
   ]
  },
  {
   "cell_type": "code",
   "execution_count": 19,
   "metadata": {},
   "outputs": [
    {
     "name": "stdout",
     "output_type": "stream",
     "text": [
      "Populating the interactive namespace from numpy and matplotlib\n"
     ]
    },
    {
     "data": {
      "application/javascript": [
       "/* Put everything inside the global mpl namespace */\n",
       "window.mpl = {};\n",
       "\n",
       "\n",
       "mpl.get_websocket_type = function() {\n",
       "    if (typeof(WebSocket) !== 'undefined') {\n",
       "        return WebSocket;\n",
       "    } else if (typeof(MozWebSocket) !== 'undefined') {\n",
       "        return MozWebSocket;\n",
       "    } else {\n",
       "        alert('Your browser does not have WebSocket support.' +\n",
       "              'Please try Chrome, Safari or Firefox ≥ 6. ' +\n",
       "              'Firefox 4 and 5 are also supported but you ' +\n",
       "              'have to enable WebSockets in about:config.');\n",
       "    };\n",
       "}\n",
       "\n",
       "mpl.figure = function(figure_id, websocket, ondownload, parent_element) {\n",
       "    this.id = figure_id;\n",
       "\n",
       "    this.ws = websocket;\n",
       "\n",
       "    this.supports_binary = (this.ws.binaryType != undefined);\n",
       "\n",
       "    if (!this.supports_binary) {\n",
       "        var warnings = document.getElementById(\"mpl-warnings\");\n",
       "        if (warnings) {\n",
       "            warnings.style.display = 'block';\n",
       "            warnings.textContent = (\n",
       "                \"This browser does not support binary websocket messages. \" +\n",
       "                    \"Performance may be slow.\");\n",
       "        }\n",
       "    }\n",
       "\n",
       "    this.imageObj = new Image();\n",
       "\n",
       "    this.context = undefined;\n",
       "    this.message = undefined;\n",
       "    this.canvas = undefined;\n",
       "    this.rubberband_canvas = undefined;\n",
       "    this.rubberband_context = undefined;\n",
       "    this.format_dropdown = undefined;\n",
       "\n",
       "    this.image_mode = 'full';\n",
       "\n",
       "    this.root = $('<div/>');\n",
       "    this._root_extra_style(this.root)\n",
       "    this.root.attr('style', 'display: inline-block');\n",
       "\n",
       "    $(parent_element).append(this.root);\n",
       "\n",
       "    this._init_header(this);\n",
       "    this._init_canvas(this);\n",
       "    this._init_toolbar(this);\n",
       "\n",
       "    var fig = this;\n",
       "\n",
       "    this.waiting = false;\n",
       "\n",
       "    this.ws.onopen =  function () {\n",
       "            fig.send_message(\"supports_binary\", {value: fig.supports_binary});\n",
       "            fig.send_message(\"send_image_mode\", {});\n",
       "            if (mpl.ratio != 1) {\n",
       "                fig.send_message(\"set_dpi_ratio\", {'dpi_ratio': mpl.ratio});\n",
       "            }\n",
       "            fig.send_message(\"refresh\", {});\n",
       "        }\n",
       "\n",
       "    this.imageObj.onload = function() {\n",
       "            if (fig.image_mode == 'full') {\n",
       "                // Full images could contain transparency (where diff images\n",
       "                // almost always do), so we need to clear the canvas so that\n",
       "                // there is no ghosting.\n",
       "                fig.context.clearRect(0, 0, fig.canvas.width, fig.canvas.height);\n",
       "            }\n",
       "            fig.context.drawImage(fig.imageObj, 0, 0);\n",
       "        };\n",
       "\n",
       "    this.imageObj.onunload = function() {\n",
       "        this.ws.close();\n",
       "    }\n",
       "\n",
       "    this.ws.onmessage = this._make_on_message_function(this);\n",
       "\n",
       "    this.ondownload = ondownload;\n",
       "}\n",
       "\n",
       "mpl.figure.prototype._init_header = function() {\n",
       "    var titlebar = $(\n",
       "        '<div class=\"ui-dialog-titlebar ui-widget-header ui-corner-all ' +\n",
       "        'ui-helper-clearfix\"/>');\n",
       "    var titletext = $(\n",
       "        '<div class=\"ui-dialog-title\" style=\"width: 100%; ' +\n",
       "        'text-align: center; padding: 3px;\"/>');\n",
       "    titlebar.append(titletext)\n",
       "    this.root.append(titlebar);\n",
       "    this.header = titletext[0];\n",
       "}\n",
       "\n",
       "\n",
       "\n",
       "mpl.figure.prototype._canvas_extra_style = function(canvas_div) {\n",
       "\n",
       "}\n",
       "\n",
       "\n",
       "mpl.figure.prototype._root_extra_style = function(canvas_div) {\n",
       "\n",
       "}\n",
       "\n",
       "mpl.figure.prototype._init_canvas = function() {\n",
       "    var fig = this;\n",
       "\n",
       "    var canvas_div = $('<div/>');\n",
       "\n",
       "    canvas_div.attr('style', 'position: relative; clear: both; outline: 0');\n",
       "\n",
       "    function canvas_keyboard_event(event) {\n",
       "        return fig.key_event(event, event['data']);\n",
       "    }\n",
       "\n",
       "    canvas_div.keydown('key_press', canvas_keyboard_event);\n",
       "    canvas_div.keyup('key_release', canvas_keyboard_event);\n",
       "    this.canvas_div = canvas_div\n",
       "    this._canvas_extra_style(canvas_div)\n",
       "    this.root.append(canvas_div);\n",
       "\n",
       "    var canvas = $('<canvas/>');\n",
       "    canvas.addClass('mpl-canvas');\n",
       "    canvas.attr('style', \"left: 0; top: 0; z-index: 0; outline: 0\")\n",
       "\n",
       "    this.canvas = canvas[0];\n",
       "    this.context = canvas[0].getContext(\"2d\");\n",
       "\n",
       "    var backingStore = this.context.backingStorePixelRatio ||\n",
       "\tthis.context.webkitBackingStorePixelRatio ||\n",
       "\tthis.context.mozBackingStorePixelRatio ||\n",
       "\tthis.context.msBackingStorePixelRatio ||\n",
       "\tthis.context.oBackingStorePixelRatio ||\n",
       "\tthis.context.backingStorePixelRatio || 1;\n",
       "\n",
       "    mpl.ratio = (window.devicePixelRatio || 1) / backingStore;\n",
       "\n",
       "    var rubberband = $('<canvas/>');\n",
       "    rubberband.attr('style', \"position: absolute; left: 0; top: 0; z-index: 1;\")\n",
       "\n",
       "    var pass_mouse_events = true;\n",
       "\n",
       "    canvas_div.resizable({\n",
       "        start: function(event, ui) {\n",
       "            pass_mouse_events = false;\n",
       "        },\n",
       "        resize: function(event, ui) {\n",
       "            fig.request_resize(ui.size.width, ui.size.height);\n",
       "        },\n",
       "        stop: function(event, ui) {\n",
       "            pass_mouse_events = true;\n",
       "            fig.request_resize(ui.size.width, ui.size.height);\n",
       "        },\n",
       "    });\n",
       "\n",
       "    function mouse_event_fn(event) {\n",
       "        if (pass_mouse_events)\n",
       "            return fig.mouse_event(event, event['data']);\n",
       "    }\n",
       "\n",
       "    rubberband.mousedown('button_press', mouse_event_fn);\n",
       "    rubberband.mouseup('button_release', mouse_event_fn);\n",
       "    // Throttle sequential mouse events to 1 every 20ms.\n",
       "    rubberband.mousemove('motion_notify', mouse_event_fn);\n",
       "\n",
       "    rubberband.mouseenter('figure_enter', mouse_event_fn);\n",
       "    rubberband.mouseleave('figure_leave', mouse_event_fn);\n",
       "\n",
       "    canvas_div.on(\"wheel\", function (event) {\n",
       "        event = event.originalEvent;\n",
       "        event['data'] = 'scroll'\n",
       "        if (event.deltaY < 0) {\n",
       "            event.step = 1;\n",
       "        } else {\n",
       "            event.step = -1;\n",
       "        }\n",
       "        mouse_event_fn(event);\n",
       "    });\n",
       "\n",
       "    canvas_div.append(canvas);\n",
       "    canvas_div.append(rubberband);\n",
       "\n",
       "    this.rubberband = rubberband;\n",
       "    this.rubberband_canvas = rubberband[0];\n",
       "    this.rubberband_context = rubberband[0].getContext(\"2d\");\n",
       "    this.rubberband_context.strokeStyle = \"#000000\";\n",
       "\n",
       "    this._resize_canvas = function(width, height) {\n",
       "        // Keep the size of the canvas, canvas container, and rubber band\n",
       "        // canvas in synch.\n",
       "        canvas_div.css('width', width)\n",
       "        canvas_div.css('height', height)\n",
       "\n",
       "        canvas.attr('width', width * mpl.ratio);\n",
       "        canvas.attr('height', height * mpl.ratio);\n",
       "        canvas.attr('style', 'width: ' + width + 'px; height: ' + height + 'px;');\n",
       "\n",
       "        rubberband.attr('width', width);\n",
       "        rubberband.attr('height', height);\n",
       "    }\n",
       "\n",
       "    // Set the figure to an initial 600x600px, this will subsequently be updated\n",
       "    // upon first draw.\n",
       "    this._resize_canvas(600, 600);\n",
       "\n",
       "    // Disable right mouse context menu.\n",
       "    $(this.rubberband_canvas).bind(\"contextmenu\",function(e){\n",
       "        return false;\n",
       "    });\n",
       "\n",
       "    function set_focus () {\n",
       "        canvas.focus();\n",
       "        canvas_div.focus();\n",
       "    }\n",
       "\n",
       "    window.setTimeout(set_focus, 100);\n",
       "}\n",
       "\n",
       "mpl.figure.prototype._init_toolbar = function() {\n",
       "    var fig = this;\n",
       "\n",
       "    var nav_element = $('<div/>')\n",
       "    nav_element.attr('style', 'width: 100%');\n",
       "    this.root.append(nav_element);\n",
       "\n",
       "    // Define a callback function for later on.\n",
       "    function toolbar_event(event) {\n",
       "        return fig.toolbar_button_onclick(event['data']);\n",
       "    }\n",
       "    function toolbar_mouse_event(event) {\n",
       "        return fig.toolbar_button_onmouseover(event['data']);\n",
       "    }\n",
       "\n",
       "    for(var toolbar_ind in mpl.toolbar_items) {\n",
       "        var name = mpl.toolbar_items[toolbar_ind][0];\n",
       "        var tooltip = mpl.toolbar_items[toolbar_ind][1];\n",
       "        var image = mpl.toolbar_items[toolbar_ind][2];\n",
       "        var method_name = mpl.toolbar_items[toolbar_ind][3];\n",
       "\n",
       "        if (!name) {\n",
       "            // put a spacer in here.\n",
       "            continue;\n",
       "        }\n",
       "        var button = $('<button/>');\n",
       "        button.addClass('ui-button ui-widget ui-state-default ui-corner-all ' +\n",
       "                        'ui-button-icon-only');\n",
       "        button.attr('role', 'button');\n",
       "        button.attr('aria-disabled', 'false');\n",
       "        button.click(method_name, toolbar_event);\n",
       "        button.mouseover(tooltip, toolbar_mouse_event);\n",
       "\n",
       "        var icon_img = $('<span/>');\n",
       "        icon_img.addClass('ui-button-icon-primary ui-icon');\n",
       "        icon_img.addClass(image);\n",
       "        icon_img.addClass('ui-corner-all');\n",
       "\n",
       "        var tooltip_span = $('<span/>');\n",
       "        tooltip_span.addClass('ui-button-text');\n",
       "        tooltip_span.html(tooltip);\n",
       "\n",
       "        button.append(icon_img);\n",
       "        button.append(tooltip_span);\n",
       "\n",
       "        nav_element.append(button);\n",
       "    }\n",
       "\n",
       "    var fmt_picker_span = $('<span/>');\n",
       "\n",
       "    var fmt_picker = $('<select/>');\n",
       "    fmt_picker.addClass('mpl-toolbar-option ui-widget ui-widget-content');\n",
       "    fmt_picker_span.append(fmt_picker);\n",
       "    nav_element.append(fmt_picker_span);\n",
       "    this.format_dropdown = fmt_picker[0];\n",
       "\n",
       "    for (var ind in mpl.extensions) {\n",
       "        var fmt = mpl.extensions[ind];\n",
       "        var option = $(\n",
       "            '<option/>', {selected: fmt === mpl.default_extension}).html(fmt);\n",
       "        fmt_picker.append(option)\n",
       "    }\n",
       "\n",
       "    // Add hover states to the ui-buttons\n",
       "    $( \".ui-button\" ).hover(\n",
       "        function() { $(this).addClass(\"ui-state-hover\");},\n",
       "        function() { $(this).removeClass(\"ui-state-hover\");}\n",
       "    );\n",
       "\n",
       "    var status_bar = $('<span class=\"mpl-message\"/>');\n",
       "    nav_element.append(status_bar);\n",
       "    this.message = status_bar[0];\n",
       "}\n",
       "\n",
       "mpl.figure.prototype.request_resize = function(x_pixels, y_pixels) {\n",
       "    // Request matplotlib to resize the figure. Matplotlib will then trigger a resize in the client,\n",
       "    // which will in turn request a refresh of the image.\n",
       "    this.send_message('resize', {'width': x_pixels, 'height': y_pixels});\n",
       "}\n",
       "\n",
       "mpl.figure.prototype.send_message = function(type, properties) {\n",
       "    properties['type'] = type;\n",
       "    properties['figure_id'] = this.id;\n",
       "    this.ws.send(JSON.stringify(properties));\n",
       "}\n",
       "\n",
       "mpl.figure.prototype.send_draw_message = function() {\n",
       "    if (!this.waiting) {\n",
       "        this.waiting = true;\n",
       "        this.ws.send(JSON.stringify({type: \"draw\", figure_id: this.id}));\n",
       "    }\n",
       "}\n",
       "\n",
       "\n",
       "mpl.figure.prototype.handle_save = function(fig, msg) {\n",
       "    var format_dropdown = fig.format_dropdown;\n",
       "    var format = format_dropdown.options[format_dropdown.selectedIndex].value;\n",
       "    fig.ondownload(fig, format);\n",
       "}\n",
       "\n",
       "\n",
       "mpl.figure.prototype.handle_resize = function(fig, msg) {\n",
       "    var size = msg['size'];\n",
       "    if (size[0] != fig.canvas.width || size[1] != fig.canvas.height) {\n",
       "        fig._resize_canvas(size[0], size[1]);\n",
       "        fig.send_message(\"refresh\", {});\n",
       "    };\n",
       "}\n",
       "\n",
       "mpl.figure.prototype.handle_rubberband = function(fig, msg) {\n",
       "    var x0 = msg['x0'] / mpl.ratio;\n",
       "    var y0 = (fig.canvas.height - msg['y0']) / mpl.ratio;\n",
       "    var x1 = msg['x1'] / mpl.ratio;\n",
       "    var y1 = (fig.canvas.height - msg['y1']) / mpl.ratio;\n",
       "    x0 = Math.floor(x0) + 0.5;\n",
       "    y0 = Math.floor(y0) + 0.5;\n",
       "    x1 = Math.floor(x1) + 0.5;\n",
       "    y1 = Math.floor(y1) + 0.5;\n",
       "    var min_x = Math.min(x0, x1);\n",
       "    var min_y = Math.min(y0, y1);\n",
       "    var width = Math.abs(x1 - x0);\n",
       "    var height = Math.abs(y1 - y0);\n",
       "\n",
       "    fig.rubberband_context.clearRect(\n",
       "        0, 0, fig.canvas.width, fig.canvas.height);\n",
       "\n",
       "    fig.rubberband_context.strokeRect(min_x, min_y, width, height);\n",
       "}\n",
       "\n",
       "mpl.figure.prototype.handle_figure_label = function(fig, msg) {\n",
       "    // Updates the figure title.\n",
       "    fig.header.textContent = msg['label'];\n",
       "}\n",
       "\n",
       "mpl.figure.prototype.handle_cursor = function(fig, msg) {\n",
       "    var cursor = msg['cursor'];\n",
       "    switch(cursor)\n",
       "    {\n",
       "    case 0:\n",
       "        cursor = 'pointer';\n",
       "        break;\n",
       "    case 1:\n",
       "        cursor = 'default';\n",
       "        break;\n",
       "    case 2:\n",
       "        cursor = 'crosshair';\n",
       "        break;\n",
       "    case 3:\n",
       "        cursor = 'move';\n",
       "        break;\n",
       "    }\n",
       "    fig.rubberband_canvas.style.cursor = cursor;\n",
       "}\n",
       "\n",
       "mpl.figure.prototype.handle_message = function(fig, msg) {\n",
       "    fig.message.textContent = msg['message'];\n",
       "}\n",
       "\n",
       "mpl.figure.prototype.handle_draw = function(fig, msg) {\n",
       "    // Request the server to send over a new figure.\n",
       "    fig.send_draw_message();\n",
       "}\n",
       "\n",
       "mpl.figure.prototype.handle_image_mode = function(fig, msg) {\n",
       "    fig.image_mode = msg['mode'];\n",
       "}\n",
       "\n",
       "mpl.figure.prototype.updated_canvas_event = function() {\n",
       "    // Called whenever the canvas gets updated.\n",
       "    this.send_message(\"ack\", {});\n",
       "}\n",
       "\n",
       "// A function to construct a web socket function for onmessage handling.\n",
       "// Called in the figure constructor.\n",
       "mpl.figure.prototype._make_on_message_function = function(fig) {\n",
       "    return function socket_on_message(evt) {\n",
       "        if (evt.data instanceof Blob) {\n",
       "            /* FIXME: We get \"Resource interpreted as Image but\n",
       "             * transferred with MIME type text/plain:\" errors on\n",
       "             * Chrome.  But how to set the MIME type?  It doesn't seem\n",
       "             * to be part of the websocket stream */\n",
       "            evt.data.type = \"image/png\";\n",
       "\n",
       "            /* Free the memory for the previous frames */\n",
       "            if (fig.imageObj.src) {\n",
       "                (window.URL || window.webkitURL).revokeObjectURL(\n",
       "                    fig.imageObj.src);\n",
       "            }\n",
       "\n",
       "            fig.imageObj.src = (window.URL || window.webkitURL).createObjectURL(\n",
       "                evt.data);\n",
       "            fig.updated_canvas_event();\n",
       "            fig.waiting = false;\n",
       "            return;\n",
       "        }\n",
       "        else if (typeof evt.data === 'string' && evt.data.slice(0, 21) == \"data:image/png;base64\") {\n",
       "            fig.imageObj.src = evt.data;\n",
       "            fig.updated_canvas_event();\n",
       "            fig.waiting = false;\n",
       "            return;\n",
       "        }\n",
       "\n",
       "        var msg = JSON.parse(evt.data);\n",
       "        var msg_type = msg['type'];\n",
       "\n",
       "        // Call the  \"handle_{type}\" callback, which takes\n",
       "        // the figure and JSON message as its only arguments.\n",
       "        try {\n",
       "            var callback = fig[\"handle_\" + msg_type];\n",
       "        } catch (e) {\n",
       "            console.log(\"No handler for the '\" + msg_type + \"' message type: \", msg);\n",
       "            return;\n",
       "        }\n",
       "\n",
       "        if (callback) {\n",
       "            try {\n",
       "                // console.log(\"Handling '\" + msg_type + \"' message: \", msg);\n",
       "                callback(fig, msg);\n",
       "            } catch (e) {\n",
       "                console.log(\"Exception inside the 'handler_\" + msg_type + \"' callback:\", e, e.stack, msg);\n",
       "            }\n",
       "        }\n",
       "    };\n",
       "}\n",
       "\n",
       "// from http://stackoverflow.com/questions/1114465/getting-mouse-location-in-canvas\n",
       "mpl.findpos = function(e) {\n",
       "    //this section is from http://www.quirksmode.org/js/events_properties.html\n",
       "    var targ;\n",
       "    if (!e)\n",
       "        e = window.event;\n",
       "    if (e.target)\n",
       "        targ = e.target;\n",
       "    else if (e.srcElement)\n",
       "        targ = e.srcElement;\n",
       "    if (targ.nodeType == 3) // defeat Safari bug\n",
       "        targ = targ.parentNode;\n",
       "\n",
       "    // jQuery normalizes the pageX and pageY\n",
       "    // pageX,Y are the mouse positions relative to the document\n",
       "    // offset() returns the position of the element relative to the document\n",
       "    var x = e.pageX - $(targ).offset().left;\n",
       "    var y = e.pageY - $(targ).offset().top;\n",
       "\n",
       "    return {\"x\": x, \"y\": y};\n",
       "};\n",
       "\n",
       "/*\n",
       " * return a copy of an object with only non-object keys\n",
       " * we need this to avoid circular references\n",
       " * http://stackoverflow.com/a/24161582/3208463\n",
       " */\n",
       "function simpleKeys (original) {\n",
       "  return Object.keys(original).reduce(function (obj, key) {\n",
       "    if (typeof original[key] !== 'object')\n",
       "        obj[key] = original[key]\n",
       "    return obj;\n",
       "  }, {});\n",
       "}\n",
       "\n",
       "mpl.figure.prototype.mouse_event = function(event, name) {\n",
       "    var canvas_pos = mpl.findpos(event)\n",
       "\n",
       "    if (name === 'button_press')\n",
       "    {\n",
       "        this.canvas.focus();\n",
       "        this.canvas_div.focus();\n",
       "    }\n",
       "\n",
       "    var x = canvas_pos.x * mpl.ratio;\n",
       "    var y = canvas_pos.y * mpl.ratio;\n",
       "\n",
       "    this.send_message(name, {x: x, y: y, button: event.button,\n",
       "                             step: event.step,\n",
       "                             guiEvent: simpleKeys(event)});\n",
       "\n",
       "    /* This prevents the web browser from automatically changing to\n",
       "     * the text insertion cursor when the button is pressed.  We want\n",
       "     * to control all of the cursor setting manually through the\n",
       "     * 'cursor' event from matplotlib */\n",
       "    event.preventDefault();\n",
       "    return false;\n",
       "}\n",
       "\n",
       "mpl.figure.prototype._key_event_extra = function(event, name) {\n",
       "    // Handle any extra behaviour associated with a key event\n",
       "}\n",
       "\n",
       "mpl.figure.prototype.key_event = function(event, name) {\n",
       "\n",
       "    // Prevent repeat events\n",
       "    if (name == 'key_press')\n",
       "    {\n",
       "        if (event.which === this._key)\n",
       "            return;\n",
       "        else\n",
       "            this._key = event.which;\n",
       "    }\n",
       "    if (name == 'key_release')\n",
       "        this._key = null;\n",
       "\n",
       "    var value = '';\n",
       "    if (event.ctrlKey && event.which != 17)\n",
       "        value += \"ctrl+\";\n",
       "    if (event.altKey && event.which != 18)\n",
       "        value += \"alt+\";\n",
       "    if (event.shiftKey && event.which != 16)\n",
       "        value += \"shift+\";\n",
       "\n",
       "    value += 'k';\n",
       "    value += event.which.toString();\n",
       "\n",
       "    this._key_event_extra(event, name);\n",
       "\n",
       "    this.send_message(name, {key: value,\n",
       "                             guiEvent: simpleKeys(event)});\n",
       "    return false;\n",
       "}\n",
       "\n",
       "mpl.figure.prototype.toolbar_button_onclick = function(name) {\n",
       "    if (name == 'download') {\n",
       "        this.handle_save(this, null);\n",
       "    } else {\n",
       "        this.send_message(\"toolbar_button\", {name: name});\n",
       "    }\n",
       "};\n",
       "\n",
       "mpl.figure.prototype.toolbar_button_onmouseover = function(tooltip) {\n",
       "    this.message.textContent = tooltip;\n",
       "};\n",
       "mpl.toolbar_items = [[\"Home\", \"Reset original view\", \"fa fa-home icon-home\", \"home\"], [\"Back\", \"Back to  previous view\", \"fa fa-arrow-left icon-arrow-left\", \"back\"], [\"Forward\", \"Forward to next view\", \"fa fa-arrow-right icon-arrow-right\", \"forward\"], [\"\", \"\", \"\", \"\"], [\"Pan\", \"Pan axes with left mouse, zoom with right\", \"fa fa-arrows icon-move\", \"pan\"], [\"Zoom\", \"Zoom to rectangle\", \"fa fa-square-o icon-check-empty\", \"zoom\"], [\"\", \"\", \"\", \"\"], [\"Download\", \"Download plot\", \"fa fa-floppy-o icon-save\", \"download\"]];\n",
       "\n",
       "mpl.extensions = [\"eps\", \"jpeg\", \"pdf\", \"png\", \"ps\", \"raw\", \"svg\", \"tif\"];\n",
       "\n",
       "mpl.default_extension = \"png\";var comm_websocket_adapter = function(comm) {\n",
       "    // Create a \"websocket\"-like object which calls the given IPython comm\n",
       "    // object with the appropriate methods. Currently this is a non binary\n",
       "    // socket, so there is still some room for performance tuning.\n",
       "    var ws = {};\n",
       "\n",
       "    ws.close = function() {\n",
       "        comm.close()\n",
       "    };\n",
       "    ws.send = function(m) {\n",
       "        //console.log('sending', m);\n",
       "        comm.send(m);\n",
       "    };\n",
       "    // Register the callback with on_msg.\n",
       "    comm.on_msg(function(msg) {\n",
       "        //console.log('receiving', msg['content']['data'], msg);\n",
       "        // Pass the mpl event to the overriden (by mpl) onmessage function.\n",
       "        ws.onmessage(msg['content']['data'])\n",
       "    });\n",
       "    return ws;\n",
       "}\n",
       "\n",
       "mpl.mpl_figure_comm = function(comm, msg) {\n",
       "    // This is the function which gets called when the mpl process\n",
       "    // starts-up an IPython Comm through the \"matplotlib\" channel.\n",
       "\n",
       "    var id = msg.content.data.id;\n",
       "    // Get hold of the div created by the display call when the Comm\n",
       "    // socket was opened in Python.\n",
       "    var element = $(\"#\" + id);\n",
       "    var ws_proxy = comm_websocket_adapter(comm)\n",
       "\n",
       "    function ondownload(figure, format) {\n",
       "        window.open(figure.imageObj.src);\n",
       "    }\n",
       "\n",
       "    var fig = new mpl.figure(id, ws_proxy,\n",
       "                           ondownload,\n",
       "                           element.get(0));\n",
       "\n",
       "    // Call onopen now - mpl needs it, as it is assuming we've passed it a real\n",
       "    // web socket which is closed, not our websocket->open comm proxy.\n",
       "    ws_proxy.onopen();\n",
       "\n",
       "    fig.parent_element = element.get(0);\n",
       "    fig.cell_info = mpl.find_output_cell(\"<div id='\" + id + \"'></div>\");\n",
       "    if (!fig.cell_info) {\n",
       "        console.error(\"Failed to find cell for figure\", id, fig);\n",
       "        return;\n",
       "    }\n",
       "\n",
       "    var output_index = fig.cell_info[2]\n",
       "    var cell = fig.cell_info[0];\n",
       "\n",
       "};\n",
       "\n",
       "mpl.figure.prototype.handle_close = function(fig, msg) {\n",
       "    var width = fig.canvas.width/mpl.ratio\n",
       "    fig.root.unbind('remove')\n",
       "\n",
       "    // Update the output cell to use the data from the current canvas.\n",
       "    fig.push_to_output();\n",
       "    var dataURL = fig.canvas.toDataURL();\n",
       "    // Re-enable the keyboard manager in IPython - without this line, in FF,\n",
       "    // the notebook keyboard shortcuts fail.\n",
       "    IPython.keyboard_manager.enable()\n",
       "    $(fig.parent_element).html('<img src=\"' + dataURL + '\" width=\"' + width + '\">');\n",
       "    fig.close_ws(fig, msg);\n",
       "}\n",
       "\n",
       "mpl.figure.prototype.close_ws = function(fig, msg){\n",
       "    fig.send_message('closing', msg);\n",
       "    // fig.ws.close()\n",
       "}\n",
       "\n",
       "mpl.figure.prototype.push_to_output = function(remove_interactive) {\n",
       "    // Turn the data on the canvas into data in the output cell.\n",
       "    var width = this.canvas.width/mpl.ratio\n",
       "    var dataURL = this.canvas.toDataURL();\n",
       "    this.cell_info[1]['text/html'] = '<img src=\"' + dataURL + '\" width=\"' + width + '\">';\n",
       "}\n",
       "\n",
       "mpl.figure.prototype.updated_canvas_event = function() {\n",
       "    // Tell IPython that the notebook contents must change.\n",
       "    IPython.notebook.set_dirty(true);\n",
       "    this.send_message(\"ack\", {});\n",
       "    var fig = this;\n",
       "    // Wait a second, then push the new image to the DOM so\n",
       "    // that it is saved nicely (might be nice to debounce this).\n",
       "    setTimeout(function () { fig.push_to_output() }, 1000);\n",
       "}\n",
       "\n",
       "mpl.figure.prototype._init_toolbar = function() {\n",
       "    var fig = this;\n",
       "\n",
       "    var nav_element = $('<div/>')\n",
       "    nav_element.attr('style', 'width: 100%');\n",
       "    this.root.append(nav_element);\n",
       "\n",
       "    // Define a callback function for later on.\n",
       "    function toolbar_event(event) {\n",
       "        return fig.toolbar_button_onclick(event['data']);\n",
       "    }\n",
       "    function toolbar_mouse_event(event) {\n",
       "        return fig.toolbar_button_onmouseover(event['data']);\n",
       "    }\n",
       "\n",
       "    for(var toolbar_ind in mpl.toolbar_items){\n",
       "        var name = mpl.toolbar_items[toolbar_ind][0];\n",
       "        var tooltip = mpl.toolbar_items[toolbar_ind][1];\n",
       "        var image = mpl.toolbar_items[toolbar_ind][2];\n",
       "        var method_name = mpl.toolbar_items[toolbar_ind][3];\n",
       "\n",
       "        if (!name) { continue; };\n",
       "\n",
       "        var button = $('<button class=\"btn btn-default\" href=\"#\" title=\"' + name + '\"><i class=\"fa ' + image + ' fa-lg\"></i></button>');\n",
       "        button.click(method_name, toolbar_event);\n",
       "        button.mouseover(tooltip, toolbar_mouse_event);\n",
       "        nav_element.append(button);\n",
       "    }\n",
       "\n",
       "    // Add the status bar.\n",
       "    var status_bar = $('<span class=\"mpl-message\" style=\"text-align:right; float: right;\"/>');\n",
       "    nav_element.append(status_bar);\n",
       "    this.message = status_bar[0];\n",
       "\n",
       "    // Add the close button to the window.\n",
       "    var buttongrp = $('<div class=\"btn-group inline pull-right\"></div>');\n",
       "    var button = $('<button class=\"btn btn-mini btn-primary\" href=\"#\" title=\"Stop Interaction\"><i class=\"fa fa-power-off icon-remove icon-large\"></i></button>');\n",
       "    button.click(function (evt) { fig.handle_close(fig, {}); } );\n",
       "    button.mouseover('Stop Interaction', toolbar_mouse_event);\n",
       "    buttongrp.append(button);\n",
       "    var titlebar = this.root.find($('.ui-dialog-titlebar'));\n",
       "    titlebar.prepend(buttongrp);\n",
       "}\n",
       "\n",
       "mpl.figure.prototype._root_extra_style = function(el){\n",
       "    var fig = this\n",
       "    el.on(\"remove\", function(){\n",
       "\tfig.close_ws(fig, {});\n",
       "    });\n",
       "}\n",
       "\n",
       "mpl.figure.prototype._canvas_extra_style = function(el){\n",
       "    // this is important to make the div 'focusable\n",
       "    el.attr('tabindex', 0)\n",
       "    // reach out to IPython and tell the keyboard manager to turn it's self\n",
       "    // off when our div gets focus\n",
       "\n",
       "    // location in version 3\n",
       "    if (IPython.notebook.keyboard_manager) {\n",
       "        IPython.notebook.keyboard_manager.register_events(el);\n",
       "    }\n",
       "    else {\n",
       "        // location in version 2\n",
       "        IPython.keyboard_manager.register_events(el);\n",
       "    }\n",
       "\n",
       "}\n",
       "\n",
       "mpl.figure.prototype._key_event_extra = function(event, name) {\n",
       "    var manager = IPython.notebook.keyboard_manager;\n",
       "    if (!manager)\n",
       "        manager = IPython.keyboard_manager;\n",
       "\n",
       "    // Check for shift+enter\n",
       "    if (event.shiftKey && event.which == 13) {\n",
       "        this.canvas_div.blur();\n",
       "        // select the cell after this one\n",
       "        var index = IPython.notebook.find_cell_index(this.cell_info[0]);\n",
       "        IPython.notebook.select(index + 1);\n",
       "    }\n",
       "}\n",
       "\n",
       "mpl.figure.prototype.handle_save = function(fig, msg) {\n",
       "    fig.ondownload(fig, null);\n",
       "}\n",
       "\n",
       "\n",
       "mpl.find_output_cell = function(html_output) {\n",
       "    // Return the cell and output element which can be found *uniquely* in the notebook.\n",
       "    // Note - this is a bit hacky, but it is done because the \"notebook_saving.Notebook\"\n",
       "    // IPython event is triggered only after the cells have been serialised, which for\n",
       "    // our purposes (turning an active figure into a static one), is too late.\n",
       "    var cells = IPython.notebook.get_cells();\n",
       "    var ncells = cells.length;\n",
       "    for (var i=0; i<ncells; i++) {\n",
       "        var cell = cells[i];\n",
       "        if (cell.cell_type === 'code'){\n",
       "            for (var j=0; j<cell.output_area.outputs.length; j++) {\n",
       "                var data = cell.output_area.outputs[j];\n",
       "                if (data.data) {\n",
       "                    // IPython >= 3 moved mimebundle to data attribute of output\n",
       "                    data = data.data;\n",
       "                }\n",
       "                if (data['text/html'] == html_output) {\n",
       "                    return [cell, data, j];\n",
       "                }\n",
       "            }\n",
       "        }\n",
       "    }\n",
       "}\n",
       "\n",
       "// Register the function which deals with the matplotlib target/channel.\n",
       "// The kernel may be null if the page has been refreshed.\n",
       "if (IPython.notebook.kernel != null) {\n",
       "    IPython.notebook.kernel.comm_manager.register_target('matplotlib', mpl.mpl_figure_comm);\n",
       "}\n"
      ],
      "text/plain": [
       "<IPython.core.display.Javascript object>"
      ]
     },
     "metadata": {},
     "output_type": "display_data"
    },
    {
     "data": {
      "text/html": [
       "<img src=\"data:image/png;base64,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\" width=\"640\">"
      ],
      "text/plain": [
       "<IPython.core.display.HTML object>"
      ]
     },
     "metadata": {},
     "output_type": "display_data"
    }
   ],
   "source": [
    "# You may wish to view the PageRank graphically.\n",
    "# This code will draw a bar chart, for each (numbered) website on the generated internet,\n",
    "# The height of each bar will be the score in the PageRank.\n",
    "# Run this code to see the PageRank for each internet you generate.\n",
    "# Hopefully you should see what you might expect\n",
    "# - there are a few clusters of important websites, but most on the internet are rubbish!\n",
    "%pylab notebook\n",
    "r = pageRank(generate_internet(100), 0.9)\n",
    "plt.bar(arange(r.shape[0]), r);"
   ]
  },
  {
   "cell_type": "code",
   "execution_count": null,
   "metadata": {
    "collapsed": true
   },
   "outputs": [],
   "source": []
  }
 ],
 "metadata": {
  "coursera": {
   "course_slug": "linear-algebra-machine-learning",
   "graded_item_id": "Sfbnp",
   "launcher_item_id": "aPxf3"
  },
  "kernelspec": {
   "display_name": "Python 3",
   "language": "python",
   "name": "python3"
  },
  "language_info": {
   "codemirror_mode": {
    "name": "ipython",
    "version": 3
   },
   "file_extension": ".py",
   "mimetype": "text/x-python",
   "name": "python",
   "nbconvert_exporter": "python",
   "pygments_lexer": "ipython3",
   "version": "3.6.2"
  }
 },
 "nbformat": 4,
 "nbformat_minor": 1
}
